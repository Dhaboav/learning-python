{
 "cells": [
  {
   "cell_type": "markdown",
   "metadata": {},
   "source": [
    "# Function, procedur, and exception"
   ]
  },
  {
   "cell_type": "markdown",
   "metadata": {},
   "source": [
    "<hr>\n",
    "\n",
    "### **Function and procedur**\n",
    "\n",
    "Function dan procedur adalah suatu script yang sama-sama melakukan suatu proses untuk mendapatkan hasil tertentu yang membedakan hanyalah statment **Return**"
   ]
  },
  {
   "cell_type": "code",
   "execution_count": null,
   "metadata": {},
   "outputs": [],
   "source": [
    "# Procedur\n",
    "def procedur(parameter):\n",
    "    math = parameter + 1000\n",
    "    print(math)\n",
    "\n",
    "#Function\n",
    "def function(parameter):\n",
    "    math = parameter + 1000\n",
    "    return math\n",
    "\n",
    "# Bisa bekerja dengan function tapi tidak dengan prosedur\n",
    "step_function = function(9) + 1 \n",
    "step_prosedur = procedur(9) + 1\n",
    "print(step_function)"
   ]
  },
  {
   "cell_type": "markdown",
   "metadata": {},
   "source": [
    "<hr>\n",
    "\n",
    "### **exception**\n",
    "\n",
    "exception digunakan untuk mengatasi error yang mungkin terjadi, sehingga program tetap berjalan."
   ]
  },
  {
   "cell_type": "code",
   "execution_count": null,
   "metadata": {},
   "outputs": [],
   "source": [
    "try:\n",
    "    test = procedur(9) + 1\n",
    "    print(test)\n",
    "except TypeError:\n",
    "    print(\"Erorrr\")"
   ]
  }
 ],
 "metadata": {
  "kernelspec": {
   "display_name": "Python 3",
   "language": "python",
   "name": "python3"
  },
  "language_info": {
   "codemirror_mode": {
    "name": "ipython",
    "version": 3
   },
   "file_extension": ".py",
   "mimetype": "text/x-python",
   "name": "python",
   "nbconvert_exporter": "python",
   "pygments_lexer": "ipython3",
   "version": "3.11.4"
  },
  "orig_nbformat": 4
 },
 "nbformat": 4,
 "nbformat_minor": 2
}
