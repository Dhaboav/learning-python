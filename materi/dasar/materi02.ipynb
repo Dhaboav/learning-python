{
 "cells": [
  {
   "attachments": {},
   "cell_type": "markdown",
   "metadata": {},
   "source": [
    "# Input, String dan Operator\n",
    "<hr></hr>"
   ]
  },
  {
   "attachments": {},
   "cell_type": "markdown",
   "metadata": {},
   "source": [
    "### Input\n",
    "Untuk menerima inputan daru user, anda cukup menggunakan input(), dan secara default akan bertipe string:\n",
    "```python\n",
    "contoh_input = input()\n",
    "```\n",
    "Bisa juga melakukan casting pada input:\n",
    "```python\n",
    "contoh_casting = int(input())\n",
    "```"
   ]
  },
  {
   "attachments": {},
   "cell_type": "markdown",
   "metadata": {},
   "source": [
    "### String\n",
    "- String satu baris dan multibaris:"
   ]
  },
  {
   "cell_type": "code",
   "execution_count": null,
   "metadata": {},
   "outputs": [],
   "source": [
    "contoh_satu_baris = \"Ini adalah contoh satu baris\"\n",
    "contoh_multi_baris = \"\"\"\n",
    "Ini\n",
    "adalah\n",
    "contoh\n",
    "multi\n",
    "baris\n",
    "\"\"\"\n",
    "\n",
    "print(contoh_satu_baris)\n",
    "print(contoh_multi_baris)\n"
   ]
  },
  {
   "attachments": {},
   "cell_type": "markdown",
   "metadata": {},
   "source": [
    "- Pemotongan String, digunakan untuk mengambil string tertentu dengan menggunakan index:"
   ]
  },
  {
   "cell_type": "code",
   "execution_count": null,
   "metadata": {},
   "outputs": [],
   "source": [
    "contoh_slicing = contoh_satu_baris[0:3]\n",
    "print(contoh_slicing)"
   ]
  },
  {
   "attachments": {},
   "cell_type": "markdown",
   "metadata": {},
   "source": [
    "catatan:\n",
    "index pada python dimulai dari 0"
   ]
  },
  {
   "attachments": {},
   "cell_type": "markdown",
   "metadata": {},
   "source": [
    "- Menformat string, dalam melakukan format string terdapat banyak cara yang digunakan disini adalah cara simple:"
   ]
  },
  {
   "cell_type": "code",
   "execution_count": null,
   "metadata": {},
   "outputs": [],
   "source": [
    "nilai = 90\n",
    "contoh_format_string = f'Nilai anda: {nilai}'\n",
    "print(contoh_format_string)"
   ]
  },
  {
   "attachments": {},
   "cell_type": "markdown",
   "metadata": {},
   "source": [
    "- String Methods\n",
    "Fungsi-fungsi yang dapat digunakan pada string:\n"
   ]
  },
  {
   "cell_type": "code",
   "execution_count": null,
   "metadata": {},
   "outputs": [],
   "source": [
    "upper_method = contoh_format_string.upper()\n",
    "lower_method = contoh_format_string.lower()\n",
    "print(upper_method)\n",
    "print(lower_method)"
   ]
  },
  {
   "attachments": {},
   "cell_type": "markdown",
   "metadata": {},
   "source": [
    "### Operator\n",
    "Operator sendiri dibagi menjadi 3:\n",
    "- Operator matematika:\n",
    "    Operator matematika meliputi, pertambahan (+), pengurangan (-), perkalian (*), pembagian (/) atau (//).\n",
    "    ```python\n",
    "    pertambahan = 100 + 10\n",
    "    pengurangan = 100 - 10\n",
    "    perkalian = 100 * 10\n",
    "    pembagian = 100 / 10\n",
    "    ```\n",
    "    untuk pembagian dengan menggunakan (/) hasilnya akan float dan (//) hasilnya akan interger.\n",
    "    \n",
    "- Operator Logika\n",
    "    Operator logika meliputi, dan (and), atau (or), tidak ada (not in), termasuk (in), tidak (not). Dan biasa digunakan pada percabangan.\n",
    "    ```python\n",
    "    nilai = 100\n",
    "    if nilai > 80 and nilai <= 100:\n",
    "        print(\"A\")\n",
    "    ```\n",
    "- Operator perbandingan\n",
    "    Operator jenis ini meliputi sama dengan (==), tidak sama dengan (!=), kurang dari (<), lebih dari (>), kurang dari sama dengan (<=), lebih dari sama dengan (>=).\n",
    "    ```python\n",
    "    nilai = 100\n",
    "    if nilai > 80:\n",
    "        print(\"A\")\n",
    "    ```"
   ]
  }
 ],
 "metadata": {
  "kernelspec": {
   "display_name": "Python 3",
   "language": "python",
   "name": "python3"
  },
  "language_info": {
   "codemirror_mode": {
    "name": "ipython",
    "version": 3
   },
   "file_extension": ".py",
   "mimetype": "text/x-python",
   "name": "python",
   "nbconvert_exporter": "python",
   "pygments_lexer": "ipython3",
   "version": "3.11.0"
  },
  "orig_nbformat": 4
 },
 "nbformat": 4,
 "nbformat_minor": 2
}
