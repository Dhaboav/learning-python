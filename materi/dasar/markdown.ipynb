{
 "cells": [
  {
   "cell_type": "markdown",
   "metadata": {},
   "source": [
    "# Header1\n",
    "## Header2\n",
    "### Header3\n",
    "#### Header4\n",
    "##### Header5\n",
    "###### Header6\n",
    "####### Not Header\n",
    "---\n"
   ]
  },
  {
   "cell_type": "markdown",
   "metadata": {},
   "source": [
    "Paragraf.  \n",
    "untuk multiple line tinggal spasi 2X.  \n",
    "pada sisi kanan kalimat.  \n",
    "*Tulisan Miring* --> * kalimat *  \n",
    "**Tulisan Tebal** --> ** kalimat **  \n",
    "***Tulisan Tebal dan Miring*** -- > *** kalimat ***  \n",
    "~~Tulisan dicoret~~ --> ~~ kalimat ~~"
   ]
  },
  {
   "cell_type": "markdown",
   "metadata": {},
   "source": [
    "---\n",
    "[Contoh Direct Link](https://www.youtube.com/watch?v=34_dRW42kYI)  \n",
    "[Contoh Undirect Link][Link]  \n",
    "[Untuk Undirect Link Dapat Lebih dari 1][Link]\n",
    "\n",
    "[Link]: https://www.youtube.com/watch?v=34_dRW42kYI\n",
    "<hr>"
   ]
  },
  {
   "cell_type": "markdown",
   "metadata": {},
   "source": [
    "Untuk menambahkan suatu komentar pakai format --> [nama]: <> (Komentar) \n",
    "<hr>"
   ]
  },
  {
   "cell_type": "markdown",
   "metadata": {},
   "source": [
    "[Direct Link Picture](https://www.markdownguide.org/assets/images/tux.png)  \n",
    "Tambahan jika ingin menampilkan gambar tinggal menambahkan '!' didepan --> ![nama](link gambar), seperti dibawah ini:\n",
    "\n",
    "![Contoh gambar](https://www.markdownguide.org/assets/images/tux.png)\n",
    "\n",
    "[Undirect link picture][links] berlaku juga untuk metode ini.\n",
    "\n",
    "[links]: (https://www.markdownguide.org/assets/images/tux.png)\n",
    "---"
   ]
  },
  {
   "cell_type": "markdown",
   "metadata": {},
   "source": [
    "Quotes\n",
    "> \" Tiada yang abadi kecuali dia \" \n",
    "> *- Seorang Tak Bernama*\n",
    "\n",
    "<hr>"
   ]
  },
  {
   "cell_type": "markdown",
   "metadata": {},
   "source": [
    "List:\n",
    "* **Unordered List** --> Menggunakan '*','-' + spasi --> * tulisan\n",
    "    - contoh 1\n",
    "    - contoh 2\n",
    "    - contoh 3\n",
    "\n",
    "* **Ordered List** --> Menggunakan '1.' + spasi --> 1. tulisan\n",
    "    1. contoh 1\n",
    "    2. contoh 2\n",
    "    3. contoh 3\n",
    "\n",
    "<hr>\n"
   ]
  },
  {
   "attachments": {},
   "cell_type": "markdown",
   "metadata": {},
   "source": [
    "**Code Snippets**\n",
    "``` cpp\n",
    "#include <bits/stdc++.h>\n",
    "using namespace std;\n",
    "\n",
    "int main(){\n",
    "    cout << \"Contoh Penggunaan untuk program cpp\";\n",
    "    return 0;\n",
    "}\n",
    "```\n",
    "---\n"
   ]
  },
  {
   "cell_type": "markdown",
   "metadata": {},
   "source": [
    "Mengambil potongan kode dari suatu program\n",
    "```python\n",
    "{\n",
    "  \"firstName\": \"John\",\n",
    "  \"lastName\": \"Smith\",\n",
    "  \"age\": 25\n",
    "}\n",
    "```\n"
   ]
  },
  {
   "cell_type": "markdown",
   "metadata": {},
   "source": [
    "---\n",
    "#### **Table**\n",
    "\n",
    "|Nama|Umur|Pekerjaan|\n",
    "|----|----|---------|\n",
    "|Miko|18|Mahasiswa|\n",
    "|Wahyu|19|Chef|\n",
    "|Falencia|20|Ibu Rumah Tangga|\n",
    "\n",
    "Format\n",
    "--> |Isi header| Header 2|   \n",
    "--> |----------|---------|  \n",
    "--> |Nilai     |Nilai    |\n",
    "\n"
   ]
  }
 ],
 "metadata": {
  "kernelspec": {
   "display_name": "Python 3.9.13 ('AI')",
   "language": "python",
   "name": "python3"
  },
  "language_info": {
   "name": "python",
   "version": "3.9.15"
  },
  "orig_nbformat": 4,
  "vscode": {
   "interpreter": {
    "hash": "c4531dcbbad73e5ad4ea04f95a3e81d8ebe573ca1dd8b175813b48c5841651b1"
   }
  }
 },
 "nbformat": 4,
 "nbformat_minor": 2
}
