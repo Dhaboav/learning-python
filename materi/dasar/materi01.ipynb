{
 "cells": [
  {
   "attachments": {},
   "cell_type": "markdown",
   "metadata": {},
   "source": [
    "# Penamaan variable, dan tipe data\n",
    "<hr></hr>"
   ]
  },
  {
   "attachments": {},
   "cell_type": "markdown",
   "metadata": {},
   "source": [
    "### Variabel\n",
    "Variable adalah suatu penampung akan suatu nilai.\n",
    "Penamaan variable bisa menggunakan beberapa cara seperti dibawah:\n",
    "- nama_variable\n",
    "- namaVariable\n",
    "- NamaVariable\n",
    "Untuk python sendiri direkomendasikan menggunakan underscore seperti pada contoh pertama sebagai standar,\n",
    "akan tetapi penulisan variabel dapat menggunakan apa saja sesuai kebutuhan.\n",
    "\n",
    "dengan catatan bahwa penamaan variable tidak ada karakter istimewa maupun angka dibagian paling depan:\n",
    "- 123_nama_variable\n",
    "- @_nama_variable\n",
    "\n",
    "### Tipe data\n",
    "Ada beberapa tipe data pada python yang bisa dikategorikan menjadi 2:\n",
    "- Tipe data primodial:\n",
    "    ```Python\n",
    "    - tipe_data_interger = 10\n",
    "    - tipe_data_float = 10.0\n",
    "    - tipe_data_string = \"Contoh\"\n",
    "    - tipe_data_boolean = True\n",
    "    ```\n",
    "\n",
    "- Tipe data khusus:\n",
    "```Python\n",
    "    - tipe_data_list = [12, 14, \"Nice\", 14.7, False]\n",
    "    - tipe_data_tuple = (50, 90, \"Nice\")\n",
    "    - tipe_data_dictionary = {\"1\" : \"One\", \"2\" : \"Two\"}\n",
    "```\n",
    "\n",
    "Untuk memeriksa tipe data anda bisa menggunakan type(nama_variabel): "
   ]
  },
  {
   "cell_type": "code",
   "execution_count": null,
   "metadata": {},
   "outputs": [],
   "source": [
    "contoh_primodial_tipe_interger = 100\n",
    "print(type(contoh_primodial_tipe_interger))\n",
    "\n",
    "contoh_khusus_tipe_list = [12, 14, 15]\n",
    "print(type(contoh_khusus_tipe_list))"
   ]
  },
  {
   "attachments": {},
   "cell_type": "markdown",
   "metadata": {},
   "source": [
    "Anda juga bisa langsung mendefinisikan tipe data yang lebih dikenal dengan casting:"
   ]
  },
  {
   "cell_type": "code",
   "execution_count": null,
   "metadata": {},
   "outputs": [],
   "source": [
    "nilai = 10.98242422\n",
    "nilai = int(nilai)\n",
    "print(nilai)"
   ]
  }
 ],
 "metadata": {
  "kernelspec": {
   "display_name": "Python 3",
   "language": "python",
   "name": "python3"
  },
  "language_info": {
   "codemirror_mode": {
    "name": "ipython",
    "version": 3
   },
   "file_extension": ".py",
   "mimetype": "text/x-python",
   "name": "python",
   "nbconvert_exporter": "python",
   "pygments_lexer": "ipython3",
   "version": "3.11.0"
  },
  "orig_nbformat": 4
 },
 "nbformat": 4,
 "nbformat_minor": 2
}
