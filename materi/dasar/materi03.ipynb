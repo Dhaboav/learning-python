{
 "cells": [
  {
   "attachments": {},
   "cell_type": "markdown",
   "metadata": {},
   "source": [
    "# Percabangan dan Perulangan\n",
    "<hr></hr>"
   ]
  },
  {
   "attachments": {},
   "cell_type": "markdown",
   "metadata": {},
   "source": [
    "### Percabangan\n",
    "Percabangan digunakan ketika ada suatu kondisi yang harus terpenuhi atau terdapat beberapa kondisi."
   ]
  },
  {
   "cell_type": "code",
   "execution_count": null,
   "metadata": {},
   "outputs": [],
   "source": [
    "nilai = 77\n",
    "if nilai >= 0 and nilai <= 50:\n",
    "    print(\"Nilai E\")\n",
    "elif nilai > 50 and nilai <= 60:\n",
    "    print(\"Nilai D\")\n",
    "elif nilai > 60 and nilai <= 70:\n",
    "    print(\"Nilai C\")\n",
    "elif nilai > 70 and nilai <= 80:\n",
    "    print(\"Nilai B\")\n",
    "else:\n",
    "    print(\"Nilai A\")"
   ]
  },
  {
   "attachments": {},
   "cell_type": "markdown",
   "metadata": {},
   "source": [
    "### Perulangan\n",
    "Perulangan digunakan ketika kegiatannya memang berulang karena sama. Secara konsep terdapat 4 perulangan:\n",
    "- For Loop\n",
    "    Perulangan yang sudah pasti."
   ]
  },
  {
   "cell_type": "code",
   "execution_count": null,
   "metadata": {},
   "outputs": [],
   "source": [
    "for x in range (10):\n",
    "    print(f'Nilai ke -{x}')"
   ]
  },
  {
   "attachments": {},
   "cell_type": "markdown",
   "metadata": {},
   "source": [
    "- While loop\n",
    "    Perulangan yang kondisinya perlu dipenuhi terlebih dahulu baru diulang."
   ]
  },
  {
   "cell_type": "code",
   "execution_count": null,
   "metadata": {},
   "outputs": [],
   "source": [
    "counter = 0\n",
    "while counter < 10:\n",
    "    print(f'Nilai ke -{counter}')\n",
    "    counter+=1\n"
   ]
  },
  {
   "attachments": {},
   "cell_type": "markdown",
   "metadata": {},
   "source": [
    "- Dan Do While Loop\n",
    "Perulangan dimana lakukan perulangan sekali baru dicek kemudian."
   ]
  },
  {
   "attachments": {},
   "cell_type": "markdown",
   "metadata": {},
   "source": [
    "- Nested Loop, perulangan dalam perulangan."
   ]
  },
  {
   "cell_type": "code",
   "execution_count": null,
   "metadata": {},
   "outputs": [],
   "source": [
    "for x in range (10):\n",
    "    for y in range (2):\n",
    "        print (x, y)"
   ]
  }
 ],
 "metadata": {
  "kernelspec": {
   "display_name": "Python 3",
   "language": "python",
   "name": "python3"
  },
  "language_info": {
   "codemirror_mode": {
    "name": "ipython",
    "version": 3
   },
   "file_extension": ".py",
   "mimetype": "text/x-python",
   "name": "python",
   "nbconvert_exporter": "python",
   "pygments_lexer": "ipython3",
   "version": "3.11.0"
  },
  "orig_nbformat": 4
 },
 "nbformat": 4,
 "nbformat_minor": 2
}
