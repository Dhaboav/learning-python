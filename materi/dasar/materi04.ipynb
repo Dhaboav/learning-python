{
 "cells": [
  {
   "cell_type": "markdown",
   "metadata": {},
   "source": [
    "# Struktur Data pada Python"
   ]
  },
  {
   "cell_type": "markdown",
   "metadata": {},
   "source": [
    "### **List**\n",
    "\n",
    "List pada python bersifat hetero yang berarti tipe data apa saja dapat digunakan dalam satu list"
   ]
  },
  {
   "cell_type": "code",
   "execution_count": null,
   "metadata": {},
   "outputs": [],
   "source": [
    "contoh_list = [100, 0.01, \"Cake\"]\n",
    "print(contoh_list[2])"
   ]
  },
  {
   "cell_type": "markdown",
   "metadata": {},
   "source": [
    "Dan list juga bersifat Mutable yang artinya dapat diubah maupun dimodifikasi melalui methods."
   ]
  },
  {
   "cell_type": "code",
   "execution_count": 2,
   "metadata": {},
   "outputs": [
    {
     "name": "stdout",
     "output_type": "stream",
     "text": [
      "[100, 0.01, 'Miko', 'Learning']\n"
     ]
    }
   ],
   "source": [
    "contoh_list.append(\"Learning\")\n",
    "print(contoh_list)"
   ]
  },
  {
   "cell_type": "markdown",
   "metadata": {},
   "source": [
    "<hr>\n",
    "\n",
    "### **Tuple**\n",
    "\n",
    "Tuple sama seperti list yang bersifat hetero akan tetapi tuple bersifat immutable yang berarti tidak dapat dirubah."
   ]
  },
  {
   "cell_type": "code",
   "execution_count": 7,
   "metadata": {},
   "outputs": [
    {
     "name": "stdout",
     "output_type": "stream",
     "text": [
      "(1, 1, 2.0, 'Miko', False)\n",
      "2\n"
     ]
    }
   ],
   "source": [
    "tuple = (1, 1,  2.0, \"Miko\", False)\n",
    "print(tuple)\n",
    "print(tuple.count(1))"
   ]
  },
  {
   "cell_type": "markdown",
   "metadata": {},
   "source": [
    "<hr>\n",
    "\n",
    "### **Dictionaries**\n",
    "\n",
    "Dictionaries atau kamus berfungsi sama dengan list akan tetapi dengan key dan value"
   ]
  },
  {
   "cell_type": "code",
   "execution_count": 10,
   "metadata": {},
   "outputs": [
    {
     "name": "stdout",
     "output_type": "stream",
     "text": [
      "Naruto\n",
      "dict_keys(['owner', 'car', 'color', 'plat'])\n"
     ]
    }
   ],
   "source": [
    "dictionaries = {\n",
    "    \"owner\" : \"Naruto\",\n",
    "    \"car\"   : \"Toyota\",\n",
    "    \"color\" : \"Black\",\n",
    "    \"plat\"  : \"D 1098 XYX\"\n",
    "}\n",
    "\n",
    "print(dictionaries[\"owner\"])\n",
    "print(dictionaries.keys())"
   ]
  }
 ],
 "metadata": {
  "kernelspec": {
   "display_name": "Python 3",
   "language": "python",
   "name": "python3"
  },
  "language_info": {
   "codemirror_mode": {
    "name": "ipython",
    "version": 3
   },
   "file_extension": ".py",
   "mimetype": "text/x-python",
   "name": "python",
   "nbconvert_exporter": "python",
   "pygments_lexer": "ipython3",
   "version": "3.11.4"
  },
  "orig_nbformat": 4
 },
 "nbformat": 4,
 "nbformat_minor": 2
}
