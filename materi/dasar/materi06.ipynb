{
 "cells": [
  {
   "cell_type": "markdown",
   "metadata": {},
   "source": [
    "# Object Oriented Programming"
   ]
  },
  {
   "cell_type": "markdown",
   "metadata": {},
   "source": [
    "<hr>\n",
    "\n",
    "OOP adalah suatu konsep dalam programming dimana objek dapat berinteraksi dengan objek lainnya, dimana jika terdapat maintance maka hanya perlu dirubah bagian spesifik saja sekaligus konsep ini juga banyak digunakan pada industri."
   ]
  },
  {
   "cell_type": "markdown",
   "metadata": {},
   "source": [
    "**Class** suatu entintas yang mencakup semua <br>\n",
    "**Atribute** suatu fungsi yang ada pada suatu kelas <br>\n",
    "**Constructor** suatu fungsi yang setiap memanggil kelas akan dieksekusi <br>\n",
    "**getter** suatu konsep untuk mengakses nilai dengan menggunakan fungsi <br>\n",
    "**setter** suatu konsep untuk menset atau merubah nilai dengan menggunakan fungsi <br>\n",
    "**tipe data** terdapat 3 jenis yaitu ***public***,***private***, ***proctected***"
   ]
  },
  {
   "cell_type": "code",
   "execution_count": null,
   "metadata": {},
   "outputs": [],
   "source": [
    "class Mahasiswa:\n",
    "    # Constructor\n",
    "    def __init__(self, nama:str, umur:int, fakultas:str, prodi:str):\n",
    "        self.__nama = nama\n",
    "        self.__umur = umur\n",
    "        self.__fakultas = fakultas\n",
    "        self.__prodi = prodi\n",
    "\n",
    "    # Atribute\n",
    "    def print(self):\n",
    "        print(f\"nama {self.__nama} berumur {self.__umur} dari fakultas {self.__fakultas} prodi {self.__prodi}\")\n"
   ]
  },
  {
   "cell_type": "code",
   "execution_count": null,
   "metadata": {},
   "outputs": [],
   "source": [
    "andi = Mahasiswa(\"Andi Shuard\", 19, \"Teknik\", \"Elektro\")\n",
    "andi.print()"
   ]
  }
 ],
 "metadata": {
  "kernelspec": {
   "display_name": "Python 3",
   "language": "python",
   "name": "python3"
  },
  "language_info": {
   "codemirror_mode": {
    "name": "ipython",
    "version": 3
   },
   "file_extension": ".py",
   "mimetype": "text/x-python",
   "name": "python",
   "nbconvert_exporter": "python",
   "pygments_lexer": "ipython3",
   "version": "3.11.4"
  },
  "orig_nbformat": 4
 },
 "nbformat": 4,
 "nbformat_minor": 2
}
